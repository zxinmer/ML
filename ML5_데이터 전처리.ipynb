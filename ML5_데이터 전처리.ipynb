{
 "cells": [
  {
   "cell_type": "markdown",
   "id": "b4f06b5f",
   "metadata": {},
   "source": [
    "# 데이터 인코딩"
   ]
  },
  {
   "cell_type": "markdown",
   "id": "2f48e83b",
   "metadata": {},
   "source": [
    "- 레이블 인코딩"
   ]
  },
  {
   "cell_type": "code",
   "execution_count": 3,
   "id": "b7c7b422",
   "metadata": {},
   "outputs": [
    {
     "name": "stdout",
     "output_type": "stream",
     "text": [
      "[0 1 4 3 3 2 2]\n"
     ]
    }
   ],
   "source": [
    "from sklearn.preprocessing import LabelEncoder\n",
    "\n",
    "items = ['TV','냉장고','전자렌지','선풍기','선풍기','믹서','믹서']\n",
    "\n",
    "encoder = LabelEncoder()\n",
    "encoder.fit(items)\n",
    "labels = encoder.transform(items)\n",
    "print(labels)"
   ]
  },
  {
   "cell_type": "code",
   "execution_count": 5,
   "id": "8010fc0a",
   "metadata": {},
   "outputs": [
    {
     "data": {
      "text/plain": [
       "array(['TV', '냉장고', '믹서', '선풍기', '전자렌지'], dtype='<U4')"
      ]
     },
     "execution_count": 5,
     "metadata": {},
     "output_type": "execute_result"
    }
   ],
   "source": [
    "# 인코딩 전 원래의 값 확인 : encoder.classes_ 속성\n",
    "encoder.classes_"
   ]
  },
  {
   "cell_type": "code",
   "execution_count": 6,
   "id": "f3b2b067",
   "metadata": {},
   "outputs": [
    {
     "data": {
      "text/plain": [
       "array(['선풍기', 'TV', '믹서', '냉장고'], dtype='<U4')"
      ]
     },
     "execution_count": 6,
     "metadata": {},
     "output_type": "execute_result"
    }
   ],
   "source": [
    "# 인코딩 된 값 디코딩\n",
    "encoder.inverse_transform([3,0,2,1])"
   ]
  },
  {
   "cell_type": "code",
   "execution_count": null,
   "id": "0c974b81",
   "metadata": {},
   "outputs": [],
   "source": [
    "-레이블 인코딩된 데이터를 회귀와 같은 ML 알고리즘에 적용해서는 안됨\n",
    "    - "
   ]
  }
 ],
 "metadata": {
  "kernelspec": {
   "display_name": "Python 3",
   "language": "python",
   "name": "python3"
  },
  "language_info": {
   "codemirror_mode": {
    "name": "ipython",
    "version": 3
   },
   "file_extension": ".py",
   "mimetype": "text/x-python",
   "name": "python",
   "nbconvert_exporter": "python",
   "pygments_lexer": "ipython3",
   "version": "3.8.8"
  }
 },
 "nbformat": 4,
 "nbformat_minor": 5
}
